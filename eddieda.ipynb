{
 "cells": [
  {
   "cell_type": "code",
   "execution_count": 1,
   "id": "febf68df",
   "metadata": {
    "execution": {
     "iopub.execute_input": "2024-10-17T14:32:46.501279Z",
     "iopub.status.busy": "2024-10-17T14:32:46.500104Z",
     "iopub.status.idle": "2024-10-17T14:32:47.703147Z",
     "shell.execute_reply": "2024-10-17T14:32:47.701887Z"
    },
    "papermill": {
     "duration": 1.213027,
     "end_time": "2024-10-17T14:32:47.705833",
     "exception": false,
     "start_time": "2024-10-17T14:32:46.492806",
     "status": "completed"
    },
    "tags": []
   },
   "outputs": [],
   "source": [
    "import pandas as pd\n",
    "train = pd.read_csv(\"/kaggle/input/eedi-mining-misconceptions-in-mathematics/train.csv\")\n",
    "test = pd.read_csv(\"/kaggle/input/eedi-mining-misconceptions-in-mathematics/test.csv\")\n",
    "mis_map = pd.read_csv(\"/kaggle/input/eedi-mining-misconceptions-in-mathematics/misconception_mapping.csv\")\n",
    "sub = pd.read_csv(\"/kaggle/input/eedi-mining-misconceptions-in-mathematics/sample_submission.csv\")"
   ]
  },
  {
   "cell_type": "code",
   "execution_count": 2,
   "id": "0e4ade69",
   "metadata": {
    "execution": {
     "iopub.execute_input": "2024-10-17T14:32:47.717833Z",
     "iopub.status.busy": "2024-10-17T14:32:47.717437Z",
     "iopub.status.idle": "2024-10-17T14:32:47.783553Z",
     "shell.execute_reply": "2024-10-17T14:32:47.781962Z"
    },
    "papermill": {
     "duration": 0.075439,
     "end_time": "2024-10-17T14:32:47.786510",
     "exception": false,
     "start_time": "2024-10-17T14:32:47.711071",
     "status": "completed"
    },
    "tags": []
   },
   "outputs": [],
   "source": [
    "misTable = {}\n",
    "for i in range(mis_map.shape[0]):\n",
    "    misTable[mis_map.MisconceptionId.values[i]] = mis_map.MisconceptionName.values[i]"
   ]
  },
  {
   "cell_type": "code",
   "execution_count": 3,
   "id": "47b5f752",
   "metadata": {
    "execution": {
     "iopub.execute_input": "2024-10-17T14:32:47.798240Z",
     "iopub.status.busy": "2024-10-17T14:32:47.797856Z",
     "iopub.status.idle": "2024-10-17T14:33:04.341579Z",
     "shell.execute_reply": "2024-10-17T14:33:04.340098Z"
    },
    "papermill": {
     "duration": 16.552959,
     "end_time": "2024-10-17T14:33:04.344449",
     "exception": false,
     "start_time": "2024-10-17T14:32:47.791490",
     "status": "completed"
    },
    "tags": []
   },
   "outputs": [],
   "source": [
    "!pip install -qq pylatexenc"
   ]
  },
  {
   "cell_type": "code",
   "execution_count": 4,
   "id": "ec84907e",
   "metadata": {
    "execution": {
     "iopub.execute_input": "2024-10-17T14:33:04.357261Z",
     "iopub.status.busy": "2024-10-17T14:33:04.356178Z",
     "iopub.status.idle": "2024-10-17T14:33:04.378063Z",
     "shell.execute_reply": "2024-10-17T14:33:04.376690Z"
    },
    "papermill": {
     "duration": 0.031279,
     "end_time": "2024-10-17T14:33:04.380793",
     "exception": false,
     "start_time": "2024-10-17T14:33:04.349514",
     "status": "completed"
    },
    "tags": []
   },
   "outputs": [],
   "source": [
    "from IPython.display import display, HTML\n",
    "from pylatexenc.latex2text import LatexNodes2Text\n",
    "\n",
    "def map_misconception_id(value, misTable):\n",
    "    # Check if value is NaN\n",
    "    if pd.isna(value):\n",
    "        return \"No misconception/NaN\"\n",
    "    else:\n",
    "        # Map the value to the misTable, if the value exists\n",
    "        return misTable.get(int(value), \"Unknown Misconception\")\n",
    "\n",
    "def generate_question_html(df, index,lat2text=1):\n",
    "    global misTable\n",
    "    # Fetch the question, options, and additional fields from the DataFrame\n",
    "    question = df.iloc[index].QuestionText\n",
    "    if lat2text==1:\n",
    "        question = LatexNodes2Text().latex_to_text(question)\n",
    "    options = []\n",
    "    for i in ['A', 'B', 'C', 'D']:\n",
    "        options.append(df['Answer' + i + 'Text'].iloc[index])\n",
    "    \n",
    "    # Fetch the correct answer and additional fields\n",
    "    correct_answer = df.iloc[index].CorrectAnswer\n",
    "    construct_name = df.iloc[index].ConstructName\n",
    "    subject_name = df.iloc[index].SubjectName\n",
    "    \n",
    "    # Map misconception IDs with the hash table, considering NaN values\n",
    "    misconception_a = map_misconception_id(df.iloc[index].MisconceptionAId, misTable)\n",
    "    misconception_b = map_misconception_id(df.iloc[index].MisconceptionBId, misTable)\n",
    "    misconception_c = map_misconception_id(df.iloc[index].MisconceptionCId, misTable)\n",
    "    misconception_d = map_misconception_id(df.iloc[index].MisconceptionDId, misTable)\n",
    "\n",
    "    # Start the HTML structure\n",
    "    html = f\"\"\"\n",
    "    <div style='font-family: Arial, sans-serif; border: 2px solid #007bff; padding: 15px; border-radius: 10px; width: 60%; margin: 0 auto; background-color: #f4f9ff;'>\n",
    "        <p style='font-size: 16px; color: #007bff;'><strong>Construct Name:</strong> {construct_name}</p>\n",
    "        <p style='font-size: 16px; color: #007bff;'><strong>Subject Name:</strong> {subject_name}</p>\n",
    "        <hr style='border: 1px solid #007bff; margin: 10px 0;'>\n",
    "        <p style='font-size: 18px; font-weight: bold; color: #ff6f61;'>Problem:</p>\n",
    "        <p style='font-size: 20px; color: #333; font-weight: bold;'>{question}</p>\n",
    "        <ul style='list-style-type: none; padding: 0;'>\n",
    "    \"\"\"\n",
    "    \n",
    "    # Option letters\n",
    "    option_letters = ['A', 'B', 'C', 'D']\n",
    "    \n",
    "    # Add each option with the corresponding letter and styled nicely\n",
    "    for i, option in enumerate(options):\n",
    "        html += f\"\"\"\n",
    "        <li style='background-color: #e0f2ff; padding: 10px; margin: 5px 0; border-radius: 5px;'>\n",
    "            <span style='font-weight: bold; color: #007bff;'>{option_letters[i]}.</span> {option}\n",
    "        </li>\n",
    "        \"\"\"\n",
    "    \n",
    "    # Close the list and add the correct answer at the bottom\n",
    "    html += f\"\"\"\n",
    "        </ul>\n",
    "        <p style='font-size: 18px; font-weight: bold; color: #28a745;'>Correct answer: {correct_answer}</p>\n",
    "        <hr style='border: 1px solid #007bff; margin: 20px 0;'>\n",
    "        <p style='font-size: 16px; color: #333;'><strong>Misconception A:</strong> {misconception_a}</p>\n",
    "        <p style='font-size: 16px; color: #333;'><strong>Misconception B:</strong> {misconception_b}</p>\n",
    "        <p style='font-size: 16px; color: #333;'><strong>Misconception C:</strong> {misconception_c}</p>\n",
    "        <p style='font-size: 16px; color: #333;'><strong>Misconception D:</strong> {misconception_d}</p>\n",
    "    </div>\n",
    "    \"\"\"\n",
    "    \n",
    "    # Display the HTML\n",
    "    display(HTML(html))"
   ]
  },
  {
   "cell_type": "code",
   "execution_count": 5,
   "id": "69c45259",
   "metadata": {
    "execution": {
     "iopub.execute_input": "2024-10-17T14:33:04.393342Z",
     "iopub.status.busy": "2024-10-17T14:33:04.392356Z",
     "iopub.status.idle": "2024-10-17T14:33:04.402702Z",
     "shell.execute_reply": "2024-10-17T14:33:04.401634Z"
    },
    "papermill": {
     "duration": 0.018912,
     "end_time": "2024-10-17T14:33:04.405067",
     "exception": false,
     "start_time": "2024-10-17T14:33:04.386155",
     "status": "completed"
    },
    "tags": []
   },
   "outputs": [
    {
     "data": {
      "text/html": [
       "\n",
       "    <div style='font-family: Arial, sans-serif; border: 2px solid #007bff; padding: 15px; border-radius: 10px; width: 60%; margin: 0 auto; background-color: #f4f9ff;'>\n",
       "        <p style='font-size: 16px; color: #007bff;'><strong>Construct Name:</strong> Simplify an algebraic fraction by factorising the numerator</p>\n",
       "        <p style='font-size: 16px; color: #007bff;'><strong>Subject Name:</strong> Simplifying Algebraic Fractions</p>\n",
       "        <hr style='border: 1px solid #007bff; margin: 10px 0;'>\n",
       "        <p style='font-size: 18px; font-weight: bold; color: #ff6f61;'>Problem:</p>\n",
       "        <p style='font-size: 20px; color: #333; font-weight: bold;'>Simplify the following, if possible: \\( \\frac{m^{2}+2 m-3}{m-3} \\)</p>\n",
       "        <ul style='list-style-type: none; padding: 0;'>\n",
       "    \n",
       "        <li style='background-color: #e0f2ff; padding: 10px; margin: 5px 0; border-radius: 5px;'>\n",
       "            <span style='font-weight: bold; color: #007bff;'>A.</span> \\( m+1 \\)\n",
       "        </li>\n",
       "        \n",
       "        <li style='background-color: #e0f2ff; padding: 10px; margin: 5px 0; border-radius: 5px;'>\n",
       "            <span style='font-weight: bold; color: #007bff;'>B.</span> \\( m+2 \\)\n",
       "        </li>\n",
       "        \n",
       "        <li style='background-color: #e0f2ff; padding: 10px; margin: 5px 0; border-radius: 5px;'>\n",
       "            <span style='font-weight: bold; color: #007bff;'>C.</span> \\( m-1 \\)\n",
       "        </li>\n",
       "        \n",
       "        <li style='background-color: #e0f2ff; padding: 10px; margin: 5px 0; border-radius: 5px;'>\n",
       "            <span style='font-weight: bold; color: #007bff;'>D.</span> Does not simplify\n",
       "        </li>\n",
       "        \n",
       "        </ul>\n",
       "        <p style='font-size: 18px; font-weight: bold; color: #28a745;'>Correct answer: D</p>\n",
       "        <hr style='border: 1px solid #007bff; margin: 20px 0;'>\n",
       "        <p style='font-size: 16px; color: #333;'><strong>Misconception A:</strong> Does not know that to factorise a quadratic expression, to find two numbers that add to give the coefficient of the x term, and multiply to give the non variable term\n",
       "</p>\n",
       "        <p style='font-size: 16px; color: #333;'><strong>Misconception B:</strong> Thinks that when you cancel identical terms from the numerator and denominator, they just disappear</p>\n",
       "        <p style='font-size: 16px; color: #333;'><strong>Misconception C:</strong> Does not know that to factorise a quadratic expression, to find two numbers that add to give the coefficient of the x term, and multiply to give the non variable term\n",
       "</p>\n",
       "        <p style='font-size: 16px; color: #333;'><strong>Misconception D:</strong> No misconception/NaN</p>\n",
       "    </div>\n",
       "    "
      ],
      "text/plain": [
       "<IPython.core.display.HTML object>"
      ]
     },
     "metadata": {},
     "output_type": "display_data"
    }
   ],
   "source": [
    "index = 1\n",
    "generate_question_html(train,index,lat2text=0)"
   ]
  },
  {
   "cell_type": "code",
   "execution_count": 6,
   "id": "38ac41bb",
   "metadata": {
    "execution": {
     "iopub.execute_input": "2024-10-17T14:33:04.417513Z",
     "iopub.status.busy": "2024-10-17T14:33:04.417021Z",
     "iopub.status.idle": "2024-10-17T14:33:04.530570Z",
     "shell.execute_reply": "2024-10-17T14:33:04.529236Z"
    },
    "papermill": {
     "duration": 0.122955,
     "end_time": "2024-10-17T14:33:04.533410",
     "exception": false,
     "start_time": "2024-10-17T14:33:04.410455",
     "status": "completed"
    },
    "tags": []
   },
   "outputs": [
    {
     "name": "stderr",
     "output_type": "stream",
     "text": [
      "/tmp/ipykernel_17/2744702272.py:16: FutureWarning: Styler.applymap has been deprecated. Use Styler.map instead.\n",
      "  styled_table = null_values.style.set_properties(**{\n"
     ]
    },
    {
     "data": {
      "text/html": [
       "<style type=\"text/css\">\n",
       "#T_980c3 thead th {\n",
       "  background-color: #007bff;\n",
       "  color: white;\n",
       "  border-color: #007bff;\n",
       "  border-width: 1px;\n",
       "  border-style: solid;\n",
       "}\n",
       "#T_980c3_row0_col0, #T_980c3_row1_col0, #T_980c3_row2_col0, #T_980c3_row3_col0, #T_980c3_row4_col0, #T_980c3_row5_col0, #T_980c3_row6_col0, #T_980c3_row7_col0, #T_980c3_row8_col0, #T_980c3_row9_col0, #T_980c3_row10_col0, #T_980c3_row11_col0, #T_980c3_row12_col0, #T_980c3_row13_col0, #T_980c3_row14_col0 {\n",
       "  background-color: #f4f9ff;\n",
       "  color: #333;\n",
       "  border-color: #007bff;\n",
       "  border-width: 1px;\n",
       "  border-style: solid;\n",
       "  text-align: center;\n",
       "  padding: 10px;\n",
       "}\n",
       "#T_980c3_row0_col1, #T_980c3_row1_col1, #T_980c3_row2_col1, #T_980c3_row3_col1, #T_980c3_row4_col1, #T_980c3_row5_col1, #T_980c3_row6_col1, #T_980c3_row7_col1, #T_980c3_row8_col1, #T_980c3_row9_col1, #T_980c3_row10_col1 {\n",
       "  background-color: #f4f9ff;\n",
       "  color: #333;\n",
       "  border-color: #007bff;\n",
       "  border-width: 1px;\n",
       "  border-style: solid;\n",
       "  text-align: center;\n",
       "  padding: 10px;\n",
       "  background-color: ;\n",
       "}\n",
       "#T_980c3_row11_col1, #T_980c3_row12_col1, #T_980c3_row13_col1, #T_980c3_row14_col1 {\n",
       "  background-color: #f4f9ff;\n",
       "  color: #333;\n",
       "  border-color: #007bff;\n",
       "  border-width: 1px;\n",
       "  border-style: solid;\n",
       "  text-align: center;\n",
       "  padding: 10px;\n",
       "  background-color: yellow;\n",
       "}\n",
       "</style>\n",
       "<table id=\"T_980c3\">\n",
       "  <thead>\n",
       "    <tr>\n",
       "      <th class=\"blank level0\" >&nbsp;</th>\n",
       "      <th id=\"T_980c3_level0_col0\" class=\"col_heading level0 col0\" >Column</th>\n",
       "      <th id=\"T_980c3_level0_col1\" class=\"col_heading level0 col1\" >Null Values</th>\n",
       "    </tr>\n",
       "  </thead>\n",
       "  <tbody>\n",
       "    <tr>\n",
       "      <th id=\"T_980c3_level0_row0\" class=\"row_heading level0 row0\" >0</th>\n",
       "      <td id=\"T_980c3_row0_col0\" class=\"data row0 col0\" >QuestionId</td>\n",
       "      <td id=\"T_980c3_row0_col1\" class=\"data row0 col1\" >0</td>\n",
       "    </tr>\n",
       "    <tr>\n",
       "      <th id=\"T_980c3_level0_row1\" class=\"row_heading level0 row1\" >1</th>\n",
       "      <td id=\"T_980c3_row1_col0\" class=\"data row1 col0\" >ConstructId</td>\n",
       "      <td id=\"T_980c3_row1_col1\" class=\"data row1 col1\" >0</td>\n",
       "    </tr>\n",
       "    <tr>\n",
       "      <th id=\"T_980c3_level0_row2\" class=\"row_heading level0 row2\" >2</th>\n",
       "      <td id=\"T_980c3_row2_col0\" class=\"data row2 col0\" >ConstructName</td>\n",
       "      <td id=\"T_980c3_row2_col1\" class=\"data row2 col1\" >0</td>\n",
       "    </tr>\n",
       "    <tr>\n",
       "      <th id=\"T_980c3_level0_row3\" class=\"row_heading level0 row3\" >3</th>\n",
       "      <td id=\"T_980c3_row3_col0\" class=\"data row3 col0\" >SubjectId</td>\n",
       "      <td id=\"T_980c3_row3_col1\" class=\"data row3 col1\" >0</td>\n",
       "    </tr>\n",
       "    <tr>\n",
       "      <th id=\"T_980c3_level0_row4\" class=\"row_heading level0 row4\" >4</th>\n",
       "      <td id=\"T_980c3_row4_col0\" class=\"data row4 col0\" >SubjectName</td>\n",
       "      <td id=\"T_980c3_row4_col1\" class=\"data row4 col1\" >0</td>\n",
       "    </tr>\n",
       "    <tr>\n",
       "      <th id=\"T_980c3_level0_row5\" class=\"row_heading level0 row5\" >5</th>\n",
       "      <td id=\"T_980c3_row5_col0\" class=\"data row5 col0\" >CorrectAnswer</td>\n",
       "      <td id=\"T_980c3_row5_col1\" class=\"data row5 col1\" >0</td>\n",
       "    </tr>\n",
       "    <tr>\n",
       "      <th id=\"T_980c3_level0_row6\" class=\"row_heading level0 row6\" >6</th>\n",
       "      <td id=\"T_980c3_row6_col0\" class=\"data row6 col0\" >QuestionText</td>\n",
       "      <td id=\"T_980c3_row6_col1\" class=\"data row6 col1\" >0</td>\n",
       "    </tr>\n",
       "    <tr>\n",
       "      <th id=\"T_980c3_level0_row7\" class=\"row_heading level0 row7\" >7</th>\n",
       "      <td id=\"T_980c3_row7_col0\" class=\"data row7 col0\" >AnswerAText</td>\n",
       "      <td id=\"T_980c3_row7_col1\" class=\"data row7 col1\" >0</td>\n",
       "    </tr>\n",
       "    <tr>\n",
       "      <th id=\"T_980c3_level0_row8\" class=\"row_heading level0 row8\" >8</th>\n",
       "      <td id=\"T_980c3_row8_col0\" class=\"data row8 col0\" >AnswerBText</td>\n",
       "      <td id=\"T_980c3_row8_col1\" class=\"data row8 col1\" >0</td>\n",
       "    </tr>\n",
       "    <tr>\n",
       "      <th id=\"T_980c3_level0_row9\" class=\"row_heading level0 row9\" >9</th>\n",
       "      <td id=\"T_980c3_row9_col0\" class=\"data row9 col0\" >AnswerCText</td>\n",
       "      <td id=\"T_980c3_row9_col1\" class=\"data row9 col1\" >0</td>\n",
       "    </tr>\n",
       "    <tr>\n",
       "      <th id=\"T_980c3_level0_row10\" class=\"row_heading level0 row10\" >10</th>\n",
       "      <td id=\"T_980c3_row10_col0\" class=\"data row10 col0\" >AnswerDText</td>\n",
       "      <td id=\"T_980c3_row10_col1\" class=\"data row10 col1\" >0</td>\n",
       "    </tr>\n",
       "    <tr>\n",
       "      <th id=\"T_980c3_level0_row11\" class=\"row_heading level0 row11\" >11</th>\n",
       "      <td id=\"T_980c3_row11_col0\" class=\"data row11 col0\" >MisconceptionAId</td>\n",
       "      <td id=\"T_980c3_row11_col1\" class=\"data row11 col1\" >734</td>\n",
       "    </tr>\n",
       "    <tr>\n",
       "      <th id=\"T_980c3_level0_row12\" class=\"row_heading level0 row12\" >12</th>\n",
       "      <td id=\"T_980c3_row12_col0\" class=\"data row12 col0\" >MisconceptionBId</td>\n",
       "      <td id=\"T_980c3_row12_col1\" class=\"data row12 col1\" >751</td>\n",
       "    </tr>\n",
       "    <tr>\n",
       "      <th id=\"T_980c3_level0_row13\" class=\"row_heading level0 row13\" >13</th>\n",
       "      <td id=\"T_980c3_row13_col0\" class=\"data row13 col0\" >MisconceptionCId</td>\n",
       "      <td id=\"T_980c3_row13_col1\" class=\"data row13 col1\" >789</td>\n",
       "    </tr>\n",
       "    <tr>\n",
       "      <th id=\"T_980c3_level0_row14\" class=\"row_heading level0 row14\" >14</th>\n",
       "      <td id=\"T_980c3_row14_col0\" class=\"data row14 col0\" >MisconceptionDId</td>\n",
       "      <td id=\"T_980c3_row14_col1\" class=\"data row14 col1\" >832</td>\n",
       "    </tr>\n",
       "  </tbody>\n",
       "</table>\n"
      ],
      "text/plain": [
       "<pandas.io.formats.style.Styler at 0x7d8ca5a28340>"
      ]
     },
     "metadata": {},
     "output_type": "display_data"
    }
   ],
   "source": [
    "import pandas as pd\n",
    "from IPython.display import display\n",
    "\n",
    "\n",
    "def display_colorful_null_values_table(df):\n",
    "    # Calculate the number of null values per column\n",
    "    null_values = df.isna().sum().reset_index()\n",
    "    null_values.columns = ['Column', 'Null Values']  # Rename columns\n",
    "    \n",
    "    # Define a function to highlight NaN values\n",
    "    def highlight_nan(val):\n",
    "        color = 'yellow' if val > 0 else ''\n",
    "        return f'background-color: {color}'\n",
    "\n",
    "    # Apply the styling to the 'Null Values' column to highlight NaN values\n",
    "    styled_table = null_values.style.set_properties(**{\n",
    "        'background-color': '#f4f9ff',\n",
    "        'color': '#333',\n",
    "        'border-color': '#007bff',\n",
    "        'border-width': '1px',\n",
    "        'border-style': 'solid',\n",
    "        'text-align': 'center',\n",
    "        'padding': '10px',\n",
    "    }).set_table_styles([\n",
    "        {'selector': 'thead th', 'props': [('background-color', '#007bff'), ('color', 'white'), ('border-color', '#007bff'), ('border-width', '1px'), ('border-style', 'solid')]}\n",
    "    ]).applymap(highlight_nan, subset=['Null Values'])\n",
    "    \n",
    "    # Display the styled table\n",
    "    display(styled_table)\n",
    "\n",
    "\n",
    "# Display colorful null values table\n",
    "display_colorful_null_values_table(train)"
   ]
  },
  {
   "cell_type": "code",
   "execution_count": 7,
   "id": "ecea0a80",
   "metadata": {
    "execution": {
     "iopub.execute_input": "2024-10-17T14:33:04.547682Z",
     "iopub.status.busy": "2024-10-17T14:33:04.547114Z",
     "iopub.status.idle": "2024-10-17T14:33:04.575893Z",
     "shell.execute_reply": "2024-10-17T14:33:04.574575Z"
    },
    "papermill": {
     "duration": 0.039384,
     "end_time": "2024-10-17T14:33:04.578562",
     "exception": false,
     "start_time": "2024-10-17T14:33:04.539178",
     "status": "completed"
    },
    "tags": []
   },
   "outputs": [
    {
     "data": {
      "text/html": [
       "<div>\n",
       "<style scoped>\n",
       "    .dataframe tbody tr th:only-of-type {\n",
       "        vertical-align: middle;\n",
       "    }\n",
       "\n",
       "    .dataframe tbody tr th {\n",
       "        vertical-align: top;\n",
       "    }\n",
       "\n",
       "    .dataframe thead th {\n",
       "        text-align: right;\n",
       "    }\n",
       "</style>\n",
       "<table border=\"1\" class=\"dataframe\">\n",
       "  <thead>\n",
       "    <tr style=\"text-align: right;\">\n",
       "      <th></th>\n",
       "      <th>QuestionId</th>\n",
       "      <th>ConstructId</th>\n",
       "      <th>ConstructName</th>\n",
       "      <th>SubjectId</th>\n",
       "      <th>SubjectName</th>\n",
       "      <th>CorrectAnswer</th>\n",
       "      <th>QuestionText</th>\n",
       "      <th>AnswerAText</th>\n",
       "      <th>AnswerBText</th>\n",
       "      <th>AnswerCText</th>\n",
       "      <th>AnswerDText</th>\n",
       "      <th>MisconceptionAId</th>\n",
       "      <th>MisconceptionBId</th>\n",
       "      <th>MisconceptionCId</th>\n",
       "      <th>MisconceptionDId</th>\n",
       "    </tr>\n",
       "  </thead>\n",
       "  <tbody>\n",
       "    <tr>\n",
       "      <th>0</th>\n",
       "      <td>0</td>\n",
       "      <td>856</td>\n",
       "      <td>Use the order of operations to carry out calcu...</td>\n",
       "      <td>33</td>\n",
       "      <td>BIDMAS</td>\n",
       "      <td>A</td>\n",
       "      <td>\\[\\n3 \\times 2+4-5\\n\\]\\nWhere do the brackets ...</td>\n",
       "      <td>\\( 3 \\times(2+4)-5 \\)</td>\n",
       "      <td>\\( 3 \\times 2+(4-5) \\)</td>\n",
       "      <td>\\( 3 \\times(2+4-5) \\)</td>\n",
       "      <td>Does not need brackets</td>\n",
       "      <td>NaN</td>\n",
       "      <td>NaN</td>\n",
       "      <td>NaN</td>\n",
       "      <td>1672.0</td>\n",
       "    </tr>\n",
       "    <tr>\n",
       "      <th>1</th>\n",
       "      <td>1</td>\n",
       "      <td>1612</td>\n",
       "      <td>Simplify an algebraic fraction by factorising ...</td>\n",
       "      <td>1077</td>\n",
       "      <td>Simplifying Algebraic Fractions</td>\n",
       "      <td>D</td>\n",
       "      <td>Simplify the following, if possible: \\( \\frac{...</td>\n",
       "      <td>\\( m+1 \\)</td>\n",
       "      <td>\\( m+2 \\)</td>\n",
       "      <td>\\( m-1 \\)</td>\n",
       "      <td>Does not simplify</td>\n",
       "      <td>2142.0</td>\n",
       "      <td>143.0</td>\n",
       "      <td>2142.0</td>\n",
       "      <td>NaN</td>\n",
       "    </tr>\n",
       "    <tr>\n",
       "      <th>2</th>\n",
       "      <td>2</td>\n",
       "      <td>2774</td>\n",
       "      <td>Calculate the range from a list of data</td>\n",
       "      <td>339</td>\n",
       "      <td>Range and Interquartile Range from a List of Data</td>\n",
       "      <td>B</td>\n",
       "      <td>Tom and Katie are discussing the \\( 5 \\) plant...</td>\n",
       "      <td>Only\\nTom</td>\n",
       "      <td>Only\\nKatie</td>\n",
       "      <td>Both Tom and Katie</td>\n",
       "      <td>Neither is correct</td>\n",
       "      <td>1287.0</td>\n",
       "      <td>NaN</td>\n",
       "      <td>1287.0</td>\n",
       "      <td>1073.0</td>\n",
       "    </tr>\n",
       "    <tr>\n",
       "      <th>3</th>\n",
       "      <td>3</td>\n",
       "      <td>2377</td>\n",
       "      <td>Recall and use the intersecting diagonals prop...</td>\n",
       "      <td>88</td>\n",
       "      <td>Properties of Quadrilaterals</td>\n",
       "      <td>C</td>\n",
       "      <td>The angles highlighted on this rectangle with ...</td>\n",
       "      <td>acute</td>\n",
       "      <td>obtuse</td>\n",
       "      <td>\\( 90^{\\circ} \\)</td>\n",
       "      <td>Not enough information</td>\n",
       "      <td>1180.0</td>\n",
       "      <td>1180.0</td>\n",
       "      <td>NaN</td>\n",
       "      <td>1180.0</td>\n",
       "    </tr>\n",
       "    <tr>\n",
       "      <th>4</th>\n",
       "      <td>4</td>\n",
       "      <td>3387</td>\n",
       "      <td>Substitute positive integer values into formul...</td>\n",
       "      <td>67</td>\n",
       "      <td>Substitution into Formula</td>\n",
       "      <td>A</td>\n",
       "      <td>The equation \\( f=3 r^{2}+3 \\) is used to find...</td>\n",
       "      <td>\\( 30 \\)</td>\n",
       "      <td>\\( 27 \\)</td>\n",
       "      <td>\\( 51 \\)</td>\n",
       "      <td>\\( 24 \\)</td>\n",
       "      <td>NaN</td>\n",
       "      <td>NaN</td>\n",
       "      <td>NaN</td>\n",
       "      <td>1818.0</td>\n",
       "    </tr>\n",
       "    <tr>\n",
       "      <th>5</th>\n",
       "      <td>5</td>\n",
       "      <td>2052</td>\n",
       "      <td>Identify a unit of area</td>\n",
       "      <td>75</td>\n",
       "      <td>Area of Simple Shapes</td>\n",
       "      <td>D</td>\n",
       "      <td>James has answered a question on the area of a...</td>\n",
       "      <td>\\( m \\)</td>\n",
       "      <td>\\( \\mathrm{cm} \\)</td>\n",
       "      <td>\\( \\mathrm{km}^{3} \\)</td>\n",
       "      <td>\\( \\mathrm{mm}^{2} \\)</td>\n",
       "      <td>686.0</td>\n",
       "      <td>686.0</td>\n",
       "      <td>686.0</td>\n",
       "      <td>NaN</td>\n",
       "    </tr>\n",
       "    <tr>\n",
       "      <th>6</th>\n",
       "      <td>6</td>\n",
       "      <td>376</td>\n",
       "      <td>Convert two digit integer percentages to fract...</td>\n",
       "      <td>238</td>\n",
       "      <td>Converting between Fractions and Percentages</td>\n",
       "      <td>B</td>\n",
       "      <td>Convert this percentage to a fraction\\n\\( 62 \\...</td>\n",
       "      <td>\\( \\frac{62}{10} \\)</td>\n",
       "      <td>\\( \\frac{31}{50} \\)</td>\n",
       "      <td>\\( \\frac{6}{2} \\)</td>\n",
       "      <td>None of these</td>\n",
       "      <td>329.0</td>\n",
       "      <td>NaN</td>\n",
       "      <td>847.0</td>\n",
       "      <td>329.0</td>\n",
       "    </tr>\n",
       "    <tr>\n",
       "      <th>7</th>\n",
       "      <td>7</td>\n",
       "      <td>314</td>\n",
       "      <td>Divide decimals by 10</td>\n",
       "      <td>224</td>\n",
       "      <td>Multiplying and Dividing with Decimals</td>\n",
       "      <td>A</td>\n",
       "      <td>\\( 43.2 \\div 10= \\)</td>\n",
       "      <td>\\( 4.32 \\)</td>\n",
       "      <td>\\( 0.432 \\)</td>\n",
       "      <td>\\( 33.2 \\)</td>\n",
       "      <td>\\( 43.02 \\)</td>\n",
       "      <td>NaN</td>\n",
       "      <td>2123.0</td>\n",
       "      <td>2273.0</td>\n",
       "      <td>2133.0</td>\n",
       "    </tr>\n",
       "    <tr>\n",
       "      <th>8</th>\n",
       "      <td>8</td>\n",
       "      <td>435</td>\n",
       "      <td>Subtract proper fractions with different denom...</td>\n",
       "      <td>230</td>\n",
       "      <td>Adding and Subtracting Fractions</td>\n",
       "      <td>A</td>\n",
       "      <td>\\(\\n\\frac{4}{5}-\\frac{1}{3}=\\frac{\\bigstar}{15...</td>\n",
       "      <td>\\( 7 \\)</td>\n",
       "      <td>\\( 5 \\)</td>\n",
       "      <td>\\( 17 \\)</td>\n",
       "      <td>\\( 3 \\)</td>\n",
       "      <td>NaN</td>\n",
       "      <td>907.0</td>\n",
       "      <td>1514.0</td>\n",
       "      <td>907.0</td>\n",
       "    </tr>\n",
       "    <tr>\n",
       "      <th>9</th>\n",
       "      <td>9</td>\n",
       "      <td>1321</td>\n",
       "      <td>Identify horizontal translations in the form f...</td>\n",
       "      <td>164</td>\n",
       "      <td>Transformations of functions in the form f(x)</td>\n",
       "      <td>C</td>\n",
       "      <td>What transformation maps the graph of\\n\\(y=f(x...</td>\n",
       "      <td>Translation by vector\\n\\(\\n\\left[\\begin{array}...</td>\n",
       "      <td>Translation by vector\\n\\(\\n\\left[\\begin{array}...</td>\n",
       "      <td>Translation by vector\\n\\(\\n\\left[\\begin{array}...</td>\n",
       "      <td>Translation by vector\\n\\(\\n\\left[\\begin{array}...</td>\n",
       "      <td>1889.0</td>\n",
       "      <td>1234.0</td>\n",
       "      <td>NaN</td>\n",
       "      <td>1312.0</td>\n",
       "    </tr>\n",
       "  </tbody>\n",
       "</table>\n",
       "</div>"
      ],
      "text/plain": [
       "   QuestionId  ConstructId                                      ConstructName  \\\n",
       "0           0          856  Use the order of operations to carry out calcu...   \n",
       "1           1         1612  Simplify an algebraic fraction by factorising ...   \n",
       "2           2         2774            Calculate the range from a list of data   \n",
       "3           3         2377  Recall and use the intersecting diagonals prop...   \n",
       "4           4         3387  Substitute positive integer values into formul...   \n",
       "5           5         2052                            Identify a unit of area   \n",
       "6           6          376  Convert two digit integer percentages to fract...   \n",
       "7           7          314                              Divide decimals by 10   \n",
       "8           8          435  Subtract proper fractions with different denom...   \n",
       "9           9         1321  Identify horizontal translations in the form f...   \n",
       "\n",
       "   SubjectId                                        SubjectName CorrectAnswer  \\\n",
       "0         33                                             BIDMAS             A   \n",
       "1       1077                    Simplifying Algebraic Fractions             D   \n",
       "2        339  Range and Interquartile Range from a List of Data             B   \n",
       "3         88                       Properties of Quadrilaterals             C   \n",
       "4         67                          Substitution into Formula             A   \n",
       "5         75                              Area of Simple Shapes             D   \n",
       "6        238       Converting between Fractions and Percentages             B   \n",
       "7        224             Multiplying and Dividing with Decimals             A   \n",
       "8        230                   Adding and Subtracting Fractions             A   \n",
       "9        164      Transformations of functions in the form f(x)             C   \n",
       "\n",
       "                                        QuestionText  \\\n",
       "0  \\[\\n3 \\times 2+4-5\\n\\]\\nWhere do the brackets ...   \n",
       "1  Simplify the following, if possible: \\( \\frac{...   \n",
       "2  Tom and Katie are discussing the \\( 5 \\) plant...   \n",
       "3  The angles highlighted on this rectangle with ...   \n",
       "4  The equation \\( f=3 r^{2}+3 \\) is used to find...   \n",
       "5  James has answered a question on the area of a...   \n",
       "6  Convert this percentage to a fraction\\n\\( 62 \\...   \n",
       "7                                \\( 43.2 \\div 10= \\)   \n",
       "8  \\(\\n\\frac{4}{5}-\\frac{1}{3}=\\frac{\\bigstar}{15...   \n",
       "9  What transformation maps the graph of\\n\\(y=f(x...   \n",
       "\n",
       "                                         AnswerAText  \\\n",
       "0                              \\( 3 \\times(2+4)-5 \\)   \n",
       "1                                          \\( m+1 \\)   \n",
       "2                                          Only\\nTom   \n",
       "3                                              acute   \n",
       "4                                           \\( 30 \\)   \n",
       "5                                            \\( m \\)   \n",
       "6                                \\( \\frac{62}{10} \\)   \n",
       "7                                         \\( 4.32 \\)   \n",
       "8                                            \\( 7 \\)   \n",
       "9  Translation by vector\\n\\(\\n\\left[\\begin{array}...   \n",
       "\n",
       "                                         AnswerBText  \\\n",
       "0                             \\( 3 \\times 2+(4-5) \\)   \n",
       "1                                          \\( m+2 \\)   \n",
       "2                                        Only\\nKatie   \n",
       "3                                             obtuse   \n",
       "4                                           \\( 27 \\)   \n",
       "5                                  \\( \\mathrm{cm} \\)   \n",
       "6                                \\( \\frac{31}{50} \\)   \n",
       "7                                        \\( 0.432 \\)   \n",
       "8                                            \\( 5 \\)   \n",
       "9  Translation by vector\\n\\(\\n\\left[\\begin{array}...   \n",
       "\n",
       "                                         AnswerCText  \\\n",
       "0                              \\( 3 \\times(2+4-5) \\)   \n",
       "1                                          \\( m-1 \\)   \n",
       "2                                 Both Tom and Katie   \n",
       "3                                   \\( 90^{\\circ} \\)   \n",
       "4                                           \\( 51 \\)   \n",
       "5                              \\( \\mathrm{km}^{3} \\)   \n",
       "6                                  \\( \\frac{6}{2} \\)   \n",
       "7                                         \\( 33.2 \\)   \n",
       "8                                           \\( 17 \\)   \n",
       "9  Translation by vector\\n\\(\\n\\left[\\begin{array}...   \n",
       "\n",
       "                                         AnswerDText  MisconceptionAId  \\\n",
       "0                             Does not need brackets               NaN   \n",
       "1                                  Does not simplify            2142.0   \n",
       "2                                 Neither is correct            1287.0   \n",
       "3                             Not enough information            1180.0   \n",
       "4                                           \\( 24 \\)               NaN   \n",
       "5                              \\( \\mathrm{mm}^{2} \\)             686.0   \n",
       "6                                      None of these             329.0   \n",
       "7                                        \\( 43.02 \\)               NaN   \n",
       "8                                            \\( 3 \\)               NaN   \n",
       "9  Translation by vector\\n\\(\\n\\left[\\begin{array}...            1889.0   \n",
       "\n",
       "   MisconceptionBId  MisconceptionCId  MisconceptionDId  \n",
       "0               NaN               NaN            1672.0  \n",
       "1             143.0            2142.0               NaN  \n",
       "2               NaN            1287.0            1073.0  \n",
       "3            1180.0               NaN            1180.0  \n",
       "4               NaN               NaN            1818.0  \n",
       "5             686.0             686.0               NaN  \n",
       "6               NaN             847.0             329.0  \n",
       "7            2123.0            2273.0            2133.0  \n",
       "8             907.0            1514.0             907.0  \n",
       "9            1234.0               NaN            1312.0  "
      ]
     },
     "execution_count": 7,
     "metadata": {},
     "output_type": "execute_result"
    }
   ],
   "source": [
    "train.head(10)"
   ]
  },
  {
   "cell_type": "code",
   "execution_count": 8,
   "id": "dd1dc8bc",
   "metadata": {
    "execution": {
     "iopub.execute_input": "2024-10-17T14:33:04.592582Z",
     "iopub.status.busy": "2024-10-17T14:33:04.592130Z",
     "iopub.status.idle": "2024-10-17T14:33:04.610730Z",
     "shell.execute_reply": "2024-10-17T14:33:04.609575Z"
    },
    "papermill": {
     "duration": 0.028425,
     "end_time": "2024-10-17T14:33:04.613088",
     "exception": false,
     "start_time": "2024-10-17T14:33:04.584663",
     "status": "completed"
    },
    "tags": []
   },
   "outputs": [
    {
     "data": {
      "text/plain": [
       "ConstructId\n",
       "473     14\n",
       "1470    13\n",
       "1428    13\n",
       "854     12\n",
       "3346    12\n",
       "1403    11\n",
       "2774    11\n",
       "1042     9\n",
       "471      9\n",
       "1493     9\n",
       "Name: count, dtype: int64"
      ]
     },
     "execution_count": 8,
     "metadata": {},
     "output_type": "execute_result"
    }
   ],
   "source": [
    "train['ConstructId'].value_counts()[:10]"
   ]
  },
  {
   "cell_type": "code",
   "execution_count": 9,
   "id": "9862f84d",
   "metadata": {
    "execution": {
     "iopub.execute_input": "2024-10-17T14:33:04.627917Z",
     "iopub.status.busy": "2024-10-17T14:33:04.626843Z",
     "iopub.status.idle": "2024-10-17T14:33:04.633557Z",
     "shell.execute_reply": "2024-10-17T14:33:04.632562Z"
    },
    "papermill": {
     "duration": 0.016494,
     "end_time": "2024-10-17T14:33:04.635888",
     "exception": false,
     "start_time": "2024-10-17T14:33:04.619394",
     "status": "completed"
    },
    "tags": []
   },
   "outputs": [],
   "source": [
    "import matplotlib.pyplot as plt\n",
    "\n",
    "def plot_value_counts(df, column_name):\n",
    "    # Get the value counts fopr the specified column\n",
    "    value_counts = df[column_name].value_counts()\n",
    "    \n",
    "    # Create a bar plot\n",
    "    plt.figure(figsize=(10,6))\n",
    "    value_counts.plot(kind='bar', color='skyblue')\n",
    "    \n",
    "    # Add labels and title\n",
    "    plt.title(f'Value Counts for {column_name}', fontsize=16)\n",
    "    plt.xlabel('Values', fontsize=12)\n",
    "    plt.ylabel('Count', fontsize=12)\n",
    "    \n",
    "    # Show the plot\n",
    "    plt.show()"
   ]
  },
  {
   "cell_type": "code",
   "execution_count": 10,
   "id": "52b625d9",
   "metadata": {
    "execution": {
     "iopub.execute_input": "2024-10-17T14:33:04.650130Z",
     "iopub.status.busy": "2024-10-17T14:33:04.649711Z",
     "iopub.status.idle": "2024-10-17T14:33:04.965049Z",
     "shell.execute_reply": "2024-10-17T14:33:04.963982Z"
    },
    "papermill": {
     "duration": 0.325459,
     "end_time": "2024-10-17T14:33:04.967548",
     "exception": false,
     "start_time": "2024-10-17T14:33:04.642089",
     "status": "completed"
    },
    "tags": []
   },
   "outputs": [
    {
     "data": {
      "image/png": "[encoded data removed]",
      "text/plain": [
       "<Figure size 1000x600 with 1 Axes>"
      ]
     },
     "metadata": {},
     "output_type": "display_data"
    }
   ],
   "source": [
    "plot_value_counts(train, 'CorrectAnswer')"
   ]
  },
  {
   "cell_type": "code",
   "execution_count": 11,
   "id": "3115ccd1",
   "metadata": {
    "execution": {
     "iopub.execute_input": "2024-10-17T14:33:04.983163Z",
     "iopub.status.busy": "2024-10-17T14:33:04.982175Z",
     "iopub.status.idle": "2024-10-17T14:33:04.993797Z",
     "shell.execute_reply": "2024-10-17T14:33:04.992801Z"
    },
    "papermill": {
     "duration": 0.021788,
     "end_time": "2024-10-17T14:33:04.996013",
     "exception": false,
     "start_time": "2024-10-17T14:33:04.974225",
     "status": "completed"
    },
    "tags": []
   },
   "outputs": [
    {
     "data": {
      "text/plain": [
       "MisconceptionAId\n",
       "1214.0    18\n",
       "1880.0    12\n",
       "1379.0    11\n",
       "1507.0    10\n",
       "1990.0    10\n",
       "          ..\n",
       "1731.0     1\n",
       "1788.0     1\n",
       "1818.0     1\n",
       "379.0      1\n",
       "801.0      1\n",
       "Name: count, Length: 740, dtype: int64"
      ]
     },
     "execution_count": 11,
     "metadata": {},
     "output_type": "execute_result"
    }
   ],
   "source": [
    "train['MisconceptionAId'].value_counts()"
   ]
  },
  {
   "cell_type": "code",
   "execution_count": 12,
   "id": "2220fd77",
   "metadata": {
    "execution": {
     "iopub.execute_input": "2024-10-17T14:33:05.011551Z",
     "iopub.status.busy": "2024-10-17T14:33:05.011068Z",
     "iopub.status.idle": "2024-10-17T14:33:05.022714Z",
     "shell.execute_reply": "2024-10-17T14:33:05.021659Z"
    },
    "papermill": {
     "duration": 0.022324,
     "end_time": "2024-10-17T14:33:05.025110",
     "exception": false,
     "start_time": "2024-10-17T14:33:05.002786",
     "status": "completed"
    },
    "tags": []
   },
   "outputs": [
    {
     "data": {
      "text/plain": [
       "MisconceptionBId\n",
       "2316.0    17\n",
       "1379.0    11\n",
       "1507.0    11\n",
       "1072.0    10\n",
       "1880.0    10\n",
       "          ..\n",
       "2241.0     1\n",
       "2279.0     1\n",
       "709.0      1\n",
       "2346.0     1\n",
       "691.0      1\n",
       "Name: count, Length: 727, dtype: int64"
      ]
     },
     "execution_count": 12,
     "metadata": {},
     "output_type": "execute_result"
    }
   ],
   "source": [
    "train['MisconceptionBId'].value_counts()"
   ]
  },
  {
   "cell_type": "code",
   "execution_count": 13,
   "id": "72c9cc52",
   "metadata": {
    "execution": {
     "iopub.execute_input": "2024-10-17T14:33:05.041880Z",
     "iopub.status.busy": "2024-10-17T14:33:05.040894Z",
     "iopub.status.idle": "2024-10-17T14:33:05.051523Z",
     "shell.execute_reply": "2024-10-17T14:33:05.050359Z"
    },
    "papermill": {
     "duration": 0.021381,
     "end_time": "2024-10-17T14:33:05.054103",
     "exception": false,
     "start_time": "2024-10-17T14:33:05.032722",
     "status": "completed"
    },
    "tags": []
   },
   "outputs": [
    {
     "data": {
      "text/plain": [
       "MisconceptionCId\n",
       "1379.0    13\n",
       "2316.0    12\n",
       "1214.0    12\n",
       "1507.0    10\n",
       "77.0       7\n",
       "          ..\n",
       "2361.0     1\n",
       "2043.0     1\n",
       "2208.0     1\n",
       "1024.0     1\n",
       "801.0      1\n",
       "Name: count, Length: 695, dtype: int64"
      ]
     },
     "execution_count": 13,
     "metadata": {},
     "output_type": "execute_result"
    }
   ],
   "source": [
    "train['MisconceptionCId'].value_counts()"
   ]
  },
  {
   "cell_type": "code",
   "execution_count": 14,
   "id": "2c4a2df0",
   "metadata": {
    "execution": {
     "iopub.execute_input": "2024-10-17T14:33:05.070040Z",
     "iopub.status.busy": "2024-10-17T14:33:05.069601Z",
     "iopub.status.idle": "2024-10-17T14:33:05.079661Z",
     "shell.execute_reply": "2024-10-17T14:33:05.078564Z"
    },
    "papermill": {
     "duration": 0.020953,
     "end_time": "2024-10-17T14:33:05.082004",
     "exception": false,
     "start_time": "2024-10-17T14:33:05.061051",
     "status": "completed"
    },
    "tags": []
   },
   "outputs": [
    {
     "data": {
      "text/plain": [
       "MisconceptionDId\n",
       "1214.0    14\n",
       "1379.0     8\n",
       "113.0      8\n",
       "1880.0     8\n",
       "2392.0     7\n",
       "          ..\n",
       "931.0      1\n",
       "1181.0     1\n",
       "376.0      1\n",
       "1012.0     1\n",
       "95.0       1\n",
       "Name: count, Length: 673, dtype: int64"
      ]
     },
     "execution_count": 14,
     "metadata": {},
     "output_type": "execute_result"
    }
   ],
   "source": [
    "train['MisconceptionDId'].value_counts()"
   ]
  },
  {
   "cell_type": "code",
   "execution_count": 15,
   "id": "fc87d971",
   "metadata": {
    "execution": {
     "iopub.execute_input": "2024-10-17T14:33:05.098314Z",
     "iopub.status.busy": "2024-10-17T14:33:05.097524Z",
     "iopub.status.idle": "2024-10-17T14:33:05.114333Z",
     "shell.execute_reply": "2024-10-17T14:33:05.113224Z"
    },
    "papermill": {
     "duration": 0.027842,
     "end_time": "2024-10-17T14:33:05.117005",
     "exception": false,
     "start_time": "2024-10-17T14:33:05.089163",
     "status": "completed"
    },
    "tags": []
   },
   "outputs": [
    {
     "name": "stdout",
     "output_type": "stream",
     "text": [
      "Most frequent MisconceptionIds accross the Options : \n",
      "---------------------------------------------------------------------------------------------------- \n",
      "\n",
      "Misconception : When solving an equation, uses the same operation rather than the inverse.\n",
      "MisconceptionId :  1214\n",
      "MisconceptionId count : 54\n",
      "---------------------------------------------------------------------------------------------------- \n",
      "\n",
      "Misconception : Rounds down instead of up\n",
      "MisconceptionId :  1379\n",
      "MisconceptionId count : 43\n",
      "---------------------------------------------------------------------------------------------------- \n",
      "\n",
      "Misconception : Mixes up squaring and multiplying by 2 or doubling\n",
      "MisconceptionId :  2316\n",
      "MisconceptionId count : 38\n",
      "---------------------------------------------------------------------------------------------------- \n",
      "\n",
      "Misconception : Carries out operations from left to right regardless of priority order\n",
      "MisconceptionId :  1507\n",
      "MisconceptionId count : 36\n",
      "---------------------------------------------------------------------------------------------------- \n",
      "\n",
      "Misconception : Fails to reflect across mirror line\n",
      "MisconceptionId :  1990\n",
      "MisconceptionId count : 33\n",
      "---------------------------------------------------------------------------------------------------- \n",
      "\n",
      "Misconception : Mixes up greater than and less than symbols\n",
      "MisconceptionId :  1880\n",
      "MisconceptionId count : 32\n",
      "---------------------------------------------------------------------------------------------------- \n",
      "\n",
      "Misconception : Believes multiplying two negatives gives a negative answer\n",
      "MisconceptionId :  1597\n",
      "MisconceptionId count : 27\n",
      "---------------------------------------------------------------------------------------------------- \n",
      "\n",
      "Misconception : Rounds to the wrong degree of accuracy (rounds too much)\n",
      "MisconceptionId :  2392\n",
      "MisconceptionId count : 27\n",
      "---------------------------------------------------------------------------------------------------- \n",
      "\n",
      "Misconception : Does not follow the arrows through a function machine, changes the order of the operations asked.\n",
      "MisconceptionId :  77\n",
      "MisconceptionId count : 22\n",
      "---------------------------------------------------------------------------------------------------- \n",
      "\n",
      "Misconception : Only multiplies the first term in the expansion of a bracket\n",
      "MisconceptionId :  220\n",
      "MisconceptionId count : 22\n",
      "---------------------------------------------------------------------------------------------------- \n",
      "\n"
     ]
    }
   ],
   "source": [
    "stacked = []\n",
    "for i in['MisconceptionAId', 'MisconceptionBId', 'MisconceptionCId', 'MisconceptionDId']:\n",
    "    stacked.extend(train[train[i].notna()][i].tolist())\n",
    "    \n",
    "    from collections import Counter\n",
    "    \n",
    "def sort_by_frequency_with_counts(input_list):\n",
    "    freq_count = Counter(input_list)\n",
    "    sorted_elements_with_counts = sorted(freq_count.items(), key=lambda x: (-x[1], x[0]))\n",
    "    \n",
    "    return sorted_elements_with_counts\n",
    "\n",
    "\n",
    "sorted_elements_with_counts = sort_by_frequency_with_counts(stacked)\n",
    "\n",
    "# Print the sorted elements along with their frequencies\n",
    "print('Most frequent MisconceptionIds accross the Options : ')\n",
    "print(\"-\"*100, '\\n')\n",
    "for element, count in sorted_elements_with_counts[:10]:\n",
    "    print(\"Misconception :\", misTable[int(element)])\n",
    "    print(\"MisconceptionId : \", int(element))\n",
    "    print(\"MisconceptionId count :\", count)\n",
    "    print(\"-\"*100, \"\\n\")"
   ]
  },
  {
   "cell_type": "code",
   "execution_count": null,
   "id": "a94a44ed",
   "metadata": {
    "papermill": {
     "duration": 0.007164,
     "end_time": "2024-10-17T14:33:05.131570",
     "exception": false,
     "start_time": "2024-10-17T14:33:05.124406",
     "status": "completed"
    },
    "tags": []
   },
   "outputs": [],
   "source": [
    "\n"
   ]
  },
  {
   "cell_type": "code",
   "execution_count": null,
   "id": "1fe2d05b",
   "metadata": {
    "papermill": {
     "duration": 0.00674,
     "end_time": "2024-10-17T14:33:05.145549",
     "exception": false,
     "start_time": "2024-10-17T14:33:05.138809",
     "status": "completed"
    },
    "tags": []
   },
   "outputs": [],
   "source": []
  },
  {
   "cell_type": "code",
   "execution_count": null,
   "id": "9df2a5af",
   "metadata": {
    "papermill": {
     "duration": 0.006676,
     "end_time": "2024-10-17T14:33:05.159268",
     "exception": false,
     "start_time": "2024-10-17T14:33:05.152592",
     "status": "completed"
    },
    "tags": []
   },
   "outputs": [],
   "source": []
  },
  {
   "cell_type": "code",
   "execution_count": null,
   "id": "77a89302",
   "metadata": {
    "papermill": {
     "duration": 0.006796,
     "end_time": "2024-10-17T14:33:05.173136",
     "exception": false,
     "start_time": "2024-10-17T14:33:05.166340",
     "status": "completed"
    },
    "tags": []
   },
   "outputs": [],
   "source": []
  },
  {
   "cell_type": "code",
   "execution_count": null,
   "id": "de3e8c39",
   "metadata": {
    "papermill": {
     "duration": 0.007143,
     "end_time": "2024-10-17T14:33:05.187238",
     "exception": false,
     "start_time": "2024-10-17T14:33:05.180095",
     "status": "completed"
    },
    "tags": []
   },
   "outputs": [],
   "source": []
  }
 ],
 "metadata": {
  "kaggle": {
   "accelerator": "none",
   "dataSources": [
    {
     "databundleVersionId": 9738540,
     "sourceId": 82695,
     "sourceType": "competition"
    }
   ],
   "dockerImageVersionId": 30786,
   "isGpuEnabled": false,
   "isInternetEnabled": true,
   "language": "python",
   "sourceType": "notebook"
  },
  "kernelspec": {
   "display_name": "Python 3",
   "language": "python",
   "name": "python3"
  },
  "language_info": {
   "codemirror_mode": {
    "name": "ipython",
    "version": 3
   },
   "file_extension": ".py",
   "mimetype": "text/x-python",
   "name": "python",
   "nbconvert_exporter": "python",
   "pygments_lexer": "ipython3",
   "version": "3.10.14"
  },
  "papermill": {
   "default_parameters": {},
   "duration": 22.268223,
   "end_time": "2024-10-17T14:33:05.717132",
   "environment_variables": {},
   "exception": null,
   "input_path": "__notebook__.ipynb",
   "output_path": "__notebook__.ipynb",
   "parameters": {},
   "start_time": "2024-10-17T14:32:43.448909",
   "version": "2.6.0"
  }
 },
 "nbformat": 4,
 "nbformat_minor": 5
}
